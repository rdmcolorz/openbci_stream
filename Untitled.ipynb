{
 "cells": [
  {
   "cell_type": "code",
   "execution_count": 1,
   "metadata": {},
   "outputs": [
    {
     "name": "stderr",
     "output_type": "stream",
     "text": [
      "usage: ipykernel_launcher.py [-h] [--type TYPE] [--name NAME]\n",
      "                             [--option OPTION]\n",
      "ipykernel_launcher.py: error: unrecognized arguments: -f /Users/kyy/Library/Jupyter/runtime/kernel-f82b5f21-673a-4ef1-823f-1d4ed58857df.json\n"
     ]
    },
    {
     "ename": "SystemExit",
     "evalue": "2",
     "output_type": "error",
     "traceback": [
      "An exception has occurred, use %tb to see the full traceback.\n",
      "\u001b[0;31mSystemExit\u001b[0m\u001b[0;31m:\u001b[0m 2\n"
     ]
    },
    {
     "name": "stderr",
     "output_type": "stream",
     "text": [
      "/usr/local/lib/python3.6/site-packages/IPython/core/interactiveshell.py:2969: UserWarning: To exit: use 'exit', 'quit', or Ctrl-D.\n",
      "  warn(\"To exit: use 'exit', 'quit', or Ctrl-D.\", stacklevel=1)\n"
     ]
    }
   ],
   "source": [
    "from pylsl import StreamInlet, resolve_stream\n",
    "import argparse\n",
    "import time\n",
    "import atexit\n",
    "import os\n",
    "import signal\n",
    "import sys\n",
    "\n",
    "def print_message(data, timestamp):\n",
    "    print(\"(%s) RECEIVED MESSAGE: \" % timestamp,data)\n",
    "\n",
    "# Clean exit from print mode\n",
    "def exit_print(signal, frame):\n",
    "    print(\"Closing listener\")\n",
    "    sys.exit(0)\n",
    "\n",
    "# Record received message in text file\n",
    "def record_to_file(data,timestamp):\n",
    "    textfile.write(str(timestamp) + \",\")\n",
    "    textfile.write(data)\n",
    "    textfile.write(\"\\n\")\n",
    "\n",
    "# Save recording, clean exit from record mode\n",
    "def close_file(*args):\n",
    "    print(\"\\nFILE SAVED\")\n",
    "    textfile.close()\n",
    "    sys.exit(0)\n",
    "\n",
    "if __name__ == \"__main__\":\n",
    "    # Collect command line arguments\n",
    "    parser = argparse.ArgumentParser()\n",
    "    parser.add_argument(\"--type\",\n",
    "        type=str, default='EEG', help=\"The type of stream\")\n",
    "    parser.add_argument(\"--name\",\n",
    "      default = None, help=\"The name of the stream\")\n",
    "    parser.add_argument(\"--option\",default=\"print\",help=\"Debugger option\")\n",
    "\n",
    "    args = parser.parse_args()\n",
    "    if args.option==\"print\":\n",
    "        signal.signal(signal.SIGINT, exit_print)\n",
    "    elif args.option==\"record\":\n",
    "        i = 0\n",
    "        while os.path.exists(\"lsl_test%s.txt\" % i):\n",
    "          i += 1\n",
    "        filename = \"lsl_test%i.txt\" % i\n",
    "        textfile = open(filename, \"w\")\n",
    "        textfile.write(\"timestamp,data\\n\")\n",
    "        textfile.write(\"-------------------------\\n\")\n",
    "        print(\"Recording to %s\" % filename)\n",
    "        signal.signal(signal.SIGINT, close_file)\n",
    "\n",
    "    # Display stream attributes\n",
    "    print('--------------------')\n",
    "    print(\"-- LSL LISTENER -- \")\n",
    "    print('--------------------')\n",
    "    print(\"Name:\", args.name)\n",
    "    print(\"Type:\", args.type)\n",
    "    print('--------------------')\n",
    "    print(\"%s option selected\" % args.option)\n",
    "\n",
    "    # first resolve an EEG stream on the lab network\n",
    "    print(\"looking for an EEG stream...\")\n",
    "    streams = resolve_stream('type', 'EEG')\n",
    "    # create a new inlet to read from the stream\n",
    "    inlet = StreamInlet(streams[0])\n",
    "    print(\"Listening....\")\n",
    "\n",
    "    while True:\n",
    "        # get a new sample\n",
    "        chunk, timestamp = inlet.pull_chunk()\n",
    "        if timestamp:\n",
    "            if args.option==\"print\":\n",
    "                print_message(chunk[0],timestamp[0])\n",
    "            elif args.option==\"record\":\n",
    "                record_to_file(chunk[0],timestamp[0])"
   ]
  },
  {
   "cell_type": "code",
   "execution_count": null,
   "metadata": {
    "collapsed": true
   },
   "outputs": [],
   "source": []
  }
 ],
 "metadata": {
  "kernelspec": {
   "display_name": "Python 3",
   "language": "python",
   "name": "python3"
  },
  "language_info": {
   "codemirror_mode": {
    "name": "ipython",
    "version": 3
   },
   "file_extension": ".py",
   "mimetype": "text/x-python",
   "name": "python",
   "nbconvert_exporter": "python",
   "pygments_lexer": "ipython3",
   "version": "3.6.5"
  }
 },
 "nbformat": 4,
 "nbformat_minor": 2
}
